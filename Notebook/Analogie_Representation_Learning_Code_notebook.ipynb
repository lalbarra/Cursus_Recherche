{
 "cells": [
  {
   "cell_type": "markdown",
   "metadata": {},
   "source": [
    "<img\n",
    "src=\"http://www.imt-atlantique.fr/sites/default/files/logo_mt_0_0.png\"\n",
    "WIDTH=180 HEIGHT=180>\n",
    "\n",
    "<CENTER>\n",
    "\n",
    "<p><font size=\"5\"> Cursus Recherche : Module Analogie </font></p>\n",
    "<p><font size=\"5\"> Representation Learning </font></p>\n",
    "</br>\n",
    "<p><font size=\"4\"> [<span style=\"color:blue\">Institut Mines Télécom</span>](https://www.mines-telecom.fr/en/)</p>\n",
    "\n",
    "</CENTER>\n",
    "\n",
    "----------------------------"
   ]
  },
  {
   "cell_type": "markdown",
   "metadata": {},
   "source": [
    "Objectifs :\n",
    "- Implémenter le pipeline : PCA + kmeans \n",
    "Varier le nombre de composantes \n",
    "tests sur Digits \n",
    "\n",
    "--> Notebook \"propre\", annoté et commenté pour le Mardi 14 Novembre. \n",
    "\n",
    "Méthodes : \n",
    "\n",
    "Deux domaines , trois datasets : \n",
    " - Digits \n",
    " - Olivetti Faces \n",
    " - Haxby (données fMRI) \n",
    "\n",
    "Deux méthodes de Dimensionality Reduction \n",
    "Deux méthodes de Clustering \n",
    "\n",
    "Résultats : \n",
    "\n",
    "figures \n"
   ]
  }
 ],
 "metadata": {
  "kernelspec": {
   "display_name": "Python 3",
   "language": "python",
   "name": "python3"
  },
  "language_info": {
   "codemirror_mode": {
    "name": "ipython",
    "version": 3
   },
   "file_extension": ".py",
   "mimetype": "text/x-python",
   "name": "python",
   "nbconvert_exporter": "python",
   "pygments_lexer": "ipython3",
   "version": "3.6.3"
  }
 },
 "nbformat": 4,
 "nbformat_minor": 2
}
